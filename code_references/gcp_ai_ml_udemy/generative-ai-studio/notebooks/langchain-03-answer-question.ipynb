{
 "cells": [
  {
   "cell_type": "code",
   "execution_count": null,
   "id": "f5ffc48b-b97b-457e-bc3e-a1f0cc3acc8f",
   "metadata": {},
   "outputs": [],
   "source": [
    "%pip install google-cloud-aiplatform\n",
    "%pip install langchain\n",
    "\n",
    "%pip install faiss-cpu #Facebook AI Similarity Search"
   ]
  },
  {
   "cell_type": "code",
   "execution_count": null,
   "id": "9b0a98f6-dc4f-4ec9-bb2f-20e4ef0690ee",
   "metadata": {},
   "outputs": [],
   "source": [
    "from langchain.text_splitter import RecursiveCharacterTextSplitter\n",
    "\n",
    "with open('devops-article.md', 'r') as file:\n",
    "    text = file.read()\n",
    "\n",
    "#chunk_size - max number of characters in a chunk\n",
    "#chunk_overlap - number of characters overlapping between two adjacent chunks\n",
    "text_splitter = RecursiveCharacterTextSplitter(separators=[\"\\n\\n\", \"\\n\"], chunk_size=5000, chunk_overlap=350)\n",
    "\n",
    "docs = text_splitter.create_documents([text])\n",
    "\n",
    "print (f\"{len(docs)} docs \")\n"
   ]
  },
  {
   "cell_type": "code",
   "execution_count": null,
   "id": "b5842e08-8c91-40c6-82fa-d111565b6718",
   "metadata": {},
   "outputs": [],
   "source": [
    "from langchain.embeddings import VertexAIEmbeddings\n",
    "from langchain.vectorstores import FAISS\n",
    "\n",
    "#FAISS.from_documents - Return VectorStore initialized from documents and embeddings.\n",
    "vector_store = FAISS.from_documents(docs, VertexAIEmbeddings())\n",
    "\n",
    "question = \"What are DevOps Transformation Best Practices?\"\n",
    "\n",
    "#similar_docs = vector_store.similarity_search(question, k=2)\n",
    "\n",
    "similar_docs_with_score = vector_store.similarity_search_with_score(question, k=2)\n",
    "\n",
    "print(similar_docs_with_score)\n",
    "\n"
   ]
  },
  {
   "cell_type": "code",
   "execution_count": null,
   "id": "fad0dc1b-a7c1-455c-a4a0-3dbd14a2caf2",
   "metadata": {},
   "outputs": [],
   "source": [
    "from langchain.llms import VertexAI\n",
    "from langchain.chains.question_answering import load_qa_chain\n",
    "\n",
    "llm = VertexAI(\n",
    "    model_name='text-bison@001',\n",
    "    temperature=0.0,\n",
    "    verbose=True,\n",
    ")\n",
    "\n",
    "#question = 'What are DevOps Transformation Best Practices?'\n",
    "question = 'DevOps Maturity Signals related to Development '\n",
    "#question = 'What are some of the most important DevOps metrics?'\n",
    "\n",
    "similar_docs = vector_store.similarity_search(question, k=2)\n",
    "\n",
    "chain = load_qa_chain(llm, chain_type='stuff')\n",
    "\n",
    "print(chain.run(input_documents=similar_docs, question=question).strip())\n"
   ]
  },
  {
   "cell_type": "code",
   "execution_count": null,
   "id": "ae054615-c237-44c7-8126-c39fbb7182d9",
   "metadata": {},
   "outputs": [],
   "source": []
  }
 ],
 "metadata": {
  "environment": {
   "kernel": "python3",
   "name": "common-cpu.m110",
   "type": "gcloud",
   "uri": "gcr.io/deeplearning-platform-release/base-cpu:m110"
  },
  "kernelspec": {
   "display_name": "Python 3",
   "language": "python",
   "name": "python3"
  },
  "language_info": {
   "codemirror_mode": {
    "name": "ipython",
    "version": 3
   },
   "file_extension": ".py",
   "mimetype": "text/x-python",
   "name": "python",
   "nbconvert_exporter": "python",
   "pygments_lexer": "ipython3",
   "version": "3.10.12"
  }
 },
 "nbformat": 4,
 "nbformat_minor": 5
}
