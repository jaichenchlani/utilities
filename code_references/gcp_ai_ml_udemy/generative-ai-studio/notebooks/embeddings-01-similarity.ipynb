{
 "cells": [
  {
   "cell_type": "code",
   "execution_count": null,
   "id": "ec3dfb49-6fbc-4b48-a12e-c3eda3a01db7",
   "metadata": {},
   "outputs": [],
   "source": [
    "#pandas - fast, powerful, flexible and easy to use open source data analysis and manipulation tool\n",
    "import pandas as pd\n",
    "\n",
    "sentences = pd.Series([\n",
    "    'The book I read was very interesting.',\n",
    "    'Cooking can be a relaxing hobby.',\n",
    "    'The scent of flowers filled the air.'\n",
    "])\n",
    "\n",
    "#DataFrame - 2 dimensional data structure, like a 2 dimensional array, or a table with rows and columns\n",
    "df=pd.DataFrame({ 'text': sentences })\n",
    "\n",
    "df"
   ]
  },
  {
   "cell_type": "code",
   "execution_count": null,
   "id": "d7bc2f17-d707-487c-b2e1-188d77dcb414",
   "metadata": {},
   "outputs": [],
   "source": [
    "from vertexai.preview.language_models import TextEmbeddingModel\n",
    "\n",
    "def determine_text_embedding(text):\n",
    "    model = TextEmbeddingModel.from_pretrained(\"textembedding-gecko@001\")\n",
    "    embeddings = model.get_embeddings([text]) \n",
    "    return [embedding.values for embedding in embeddings]"
   ]
  },
  {
   "cell_type": "code",
   "execution_count": null,
   "id": "c2039c7a-5f7a-4ea1-a81a-6c69f17d1f8d",
   "metadata": {},
   "outputs": [],
   "source": [
    "determine_text_embedding(\"An example Sentence\")"
   ]
  },
  {
   "cell_type": "code",
   "execution_count": null,
   "id": "5595acbb-85f0-4bca-9432-ed231d5a307f",
   "metadata": {},
   "outputs": [],
   "source": [
    "df=df.assign(\n",
    "    embedding=(\n",
    "        df[\"text\"].apply(lambda x : determine_text_embedding(x))\n",
    "    )\n",
    ")\n",
    "\n",
    "df"
   ]
  },
  {
   "cell_type": "code",
   "execution_count": null,
   "id": "b2beb6e3-577e-47e2-bdc9-e0e5bc4006da",
   "metadata": {},
   "outputs": [],
   "source": [
    "prompt = \"Tell me about Cooking\"\n",
    "prompt_embedding=determine_text_embedding(prompt)"
   ]
  },
  {
   "cell_type": "code",
   "execution_count": null,
   "id": "69206e9d-5572-4298-b322-7ccbfd106141",
   "metadata": {},
   "outputs": [],
   "source": [
    "#numpy - support for large, multi-dimensional arrays and matrices, \n",
    "#        along with a large collection of high-level mathematical functions to operate on these arrays. \n",
    "import numpy as np\n",
    "\n",
    "# Calculate dot product to find out similarity\n",
    "# Higher dot product => similar vectors\n",
    "def determine_embedding_similarity(vec1, vec2):\n",
    "    return np.dot(np.squeeze(np.array(vec1)),np.squeeze(np.array(vec2)))"
   ]
  },
  {
   "cell_type": "code",
   "execution_count": null,
   "id": "2cc26c9d-c524-439f-a8cb-26c09e70f531",
   "metadata": {},
   "outputs": [],
   "source": [
    "df[\"similarity\"]=df[\"embedding\"].apply(lambda x: determine_embedding_similarity(x,prompt_embedding[0]))\n",
    "df"
   ]
  },
  {
   "cell_type": "code",
   "execution_count": null,
   "id": "cc4e3874-f874-4d99-9917-ff972f391716",
   "metadata": {},
   "outputs": [],
   "source": [
    "index_of_highest_similarity = df['similarity'].idxmax()\n",
    "text_with_highest_similarity = df.loc[index_of_highest_similarity, 'text']\n",
    "text_with_highest_similarity"
   ]
  },
  {
   "cell_type": "code",
   "execution_count": null,
   "id": "b0b49ac9-3fae-464b-85cf-8a9e8bb61236",
   "metadata": {},
   "outputs": [],
   "source": []
  }
 ],
 "metadata": {
  "environment": {
   "kernel": "python3",
   "name": "common-cpu.m110",
   "type": "gcloud",
   "uri": "gcr.io/deeplearning-platform-release/base-cpu:m110"
  },
  "kernelspec": {
   "display_name": "Python 3",
   "language": "python",
   "name": "python3"
  },
  "language_info": {
   "codemirror_mode": {
    "name": "ipython",
    "version": 3
   },
   "file_extension": ".py",
   "mimetype": "text/x-python",
   "name": "python",
   "nbconvert_exporter": "python",
   "pygments_lexer": "ipython3",
   "version": "3.10.12"
  }
 },
 "nbformat": 4,
 "nbformat_minor": 5
}
