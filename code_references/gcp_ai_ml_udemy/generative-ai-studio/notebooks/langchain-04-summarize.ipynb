{
 "cells": [
  {
   "cell_type": "code",
   "execution_count": null,
   "id": "db3b5c6a-d8f9-482d-aa80-6f080ef8d1a3",
   "metadata": {},
   "outputs": [],
   "source": [
    "%pip install google-cloud-aiplatform\n",
    "%pip install langchain\n",
    "%pip install transformers"
   ]
  },
  {
   "cell_type": "code",
   "execution_count": null,
   "id": "70109152-d92f-4d5a-bd04-c0ac399c1e51",
   "metadata": {},
   "outputs": [],
   "source": [
    "with open('devops-article.md', 'r') as file:\n",
    "    text = file.read()\n",
    "\n",
    "print (len(text))"
   ]
  },
  {
   "cell_type": "code",
   "execution_count": null,
   "id": "ed2c3e07-9e30-4d6b-b0c8-747a43368f87",
   "metadata": {},
   "outputs": [],
   "source": [
    "from langchain.text_splitter import RecursiveCharacterTextSplitter\n",
    "\n",
    "text_splitter = RecursiveCharacterTextSplitter(separators=[\"\\n\\n\", \"\\n\"], chunk_size=5000, chunk_overlap=350)\n",
    "\n",
    "docs = text_splitter.create_documents([text])\n",
    "\n",
    "print (f\"{len(docs)} docs \")"
   ]
  },
  {
   "cell_type": "code",
   "execution_count": null,
   "id": "36e6fe54-52b0-43a8-9ee1-85f28e6c020d",
   "metadata": {},
   "outputs": [],
   "source": [
    "from langchain.llms import VertexAI\n",
    "from langchain.chains.summarize import load_summarize_chain\n",
    "\n",
    "llm = VertexAI()\n",
    "\n",
    "chain = load_summarize_chain(llm, chain_type=\"stuff\")\n",
    "\n",
    "chain.run(docs)"
   ]
  },
  {
   "cell_type": "code",
   "execution_count": null,
   "id": "50e23b29-2892-4c93-b7bf-a3be7b156fc2",
   "metadata": {},
   "outputs": [],
   "source": [
    "chain = load_summarize_chain(llm=llm, chain_type='map_reduce')\n",
    "\n",
    "output = chain.run(docs)\n",
    "print (output)"
   ]
  },
  {
   "cell_type": "code",
   "execution_count": null,
   "id": "fbbb3d59-65fa-4414-b9c1-18d28e5f3bb8",
   "metadata": {},
   "outputs": [],
   "source": []
  }
 ],
 "metadata": {
  "environment": {
   "kernel": "python3",
   "name": "common-cpu.m110",
   "type": "gcloud",
   "uri": "gcr.io/deeplearning-platform-release/base-cpu:m110"
  },
  "kernelspec": {
   "display_name": "Python 3",
   "language": "python",
   "name": "python3"
  },
  "language_info": {
   "codemirror_mode": {
    "name": "ipython",
    "version": 3
   },
   "file_extension": ".py",
   "mimetype": "text/x-python",
   "name": "python",
   "nbconvert_exporter": "python",
   "pygments_lexer": "ipython3",
   "version": "3.10.12"
  }
 },
 "nbformat": 4,
 "nbformat_minor": 5
}
