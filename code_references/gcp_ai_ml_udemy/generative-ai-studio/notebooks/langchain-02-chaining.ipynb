{
 "cells": [
  {
   "cell_type": "code",
   "execution_count": null,
   "id": "db3b5c6a-d8f9-482d-aa80-6f080ef8d1a3",
   "metadata": {},
   "outputs": [],
   "source": [
    "%pip install google-cloud-aiplatform\n",
    "%pip install langchain"
   ]
  },
  {
   "cell_type": "code",
   "execution_count": null,
   "id": "24dd9fd3-dc77-4f4a-9b7b-422839535fb9",
   "metadata": {},
   "outputs": [],
   "source": [
    "from langchain.llms import VertexAI\n",
    "from langchain import LLMChain\n",
    "from langchain import PromptTemplate\n",
    "\n",
    "llm = VertexAI()\n",
    "\n",
    "template = \"\"\"List ONLY 1 DevOps Tool related to {topic}. List only the name of the tool.\n",
    "\n",
    "EXAMPLE: TOOL_NAME\n",
    "\n",
    "YOUR RESPONSE:\n",
    "\"\"\"\n",
    "\n",
    "prompt_template = PromptTemplate(input_variables=[\"topic\"], template=template)\n",
    "\n",
    "tool_chain = LLMChain(llm=llm, prompt=prompt_template)"
   ]
  },
  {
   "cell_type": "code",
   "execution_count": null,
   "id": "bc7e679d-e566-4ac8-acea-55da3a913b7f",
   "metadata": {},
   "outputs": [],
   "source": [
    "template = \"\"\"Write a short summary about {tool}\n",
    "\n",
    "YOUR RESPONSE:\n",
    "\"\"\"\n",
    "prompt_template = PromptTemplate(input_variables=[\"tool\"], template=template)\n",
    "\n",
    "summary_chain = LLMChain(llm=llm, prompt=prompt_template)\n"
   ]
  },
  {
   "cell_type": "code",
   "execution_count": null,
   "id": "485e5e2e-08a0-4520-a6aa-c3198a457812",
   "metadata": {},
   "outputs": [],
   "source": [
    "from langchain.chains import SimpleSequentialChain\n",
    "\n",
    "complete_chain = SimpleSequentialChain(chains=[tool_chain, summary_chain], verbose=True)\n",
    "\n",
    "#summary = complete_chain.run(\"Continuous Integration\")\n",
    "\n",
    "summary = complete_chain.run(\"Infrastructure as Code\")\n",
    "\n",
    "#summary = complete_chain.run(\"Container Orchestration\")"
   ]
  }
 ],
 "metadata": {
  "environment": {
   "kernel": "python3",
   "name": "common-cpu.m110",
   "type": "gcloud",
   "uri": "gcr.io/deeplearning-platform-release/base-cpu:m110"
  },
  "kernelspec": {
   "display_name": "Python 3",
   "language": "python",
   "name": "python3"
  },
  "language_info": {
   "codemirror_mode": {
    "name": "ipython",
    "version": 3
   },
   "file_extension": ".py",
   "mimetype": "text/x-python",
   "name": "python",
   "nbconvert_exporter": "python",
   "pygments_lexer": "ipython3",
   "version": "3.10.12"
  }
 },
 "nbformat": 4,
 "nbformat_minor": 5
}
